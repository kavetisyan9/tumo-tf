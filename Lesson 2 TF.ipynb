{
 "cells": [
  {
   "cell_type": "code",
   "execution_count": 40,
   "metadata": {
    "collapsed": false,
    "deletable": true,
    "editable": true
   },
   "outputs": [
    {
     "name": "stdout",
     "output_type": "stream",
     "text": [
      "[<tf.Operation 'Const' type=Const>, <tf.Operation 'Variable/initial_value' type=Const>, <tf.Operation 'Variable' type=VariableV2>, <tf.Operation 'Variable/Assign' type=Assign>, <tf.Operation 'Variable/read' type=Identity>, <tf.Operation 'init' type=NoOp>, <tf.Operation 'mul' type=Mul>]\n",
      "7.2\n"
     ]
    }
   ],
   "source": [
    "import tensorflow as tf\n",
    "graph = tf.Graph()\n",
    "with graph.as_default():\n",
    "    input = tf.constant(3.6)\n",
    "    weight = tf.Variable(2.0)\n",
    "    sess=tf.Session()\n",
    "    sess.run(tf.global_variables_initializer())\n",
    "    output = input*weight\n",
    "    print(graph.get_operations())\n",
    "    print(sess.run(output)) "
   ]
  },
  {
   "cell_type": "code",
   "execution_count": 54,
   "metadata": {
    "collapsed": false,
    "deletable": true,
    "editable": true
   },
   "outputs": [
    {
     "ename": "TypeError",
     "evalue": "'module' object is not callable",
     "output_type": "error",
     "traceback": [
      "\u001b[0;31m---------------------------------------------------------------------------\u001b[0m",
      "\u001b[0;31mTypeError\u001b[0m                                 Traceback (most recent call last)",
      "\u001b[0;32m<ipython-input-54-fc0a37cbedd6>\u001b[0m in \u001b[0;36m<module>\u001b[0;34m()\u001b[0m\n\u001b[1;32m      1\u001b[0m \u001b[0mgraph\u001b[0m\u001b[0;34m=\u001b[0m\u001b[0mtf\u001b[0m\u001b[0;34m.\u001b[0m\u001b[0mget_default_graph\u001b[0m\u001b[0;34m(\u001b[0m\u001b[0;34m)\u001b[0m\u001b[0;34m\u001b[0m\u001b[0m\n\u001b[0;32m----> 2\u001b[0;31m \u001b[0mgraph_writer\u001b[0m \u001b[0;34m=\u001b[0m \u001b[0mtf\u001b[0m\u001b[0;34m.\u001b[0m\u001b[0msummary\u001b[0m\u001b[0;34m(\u001b[0m \u001b[0;34m'Ex1'\u001b[0m \u001b[0;34m,\u001b[0m \u001b[0msess\u001b[0m\u001b[0;34m.\u001b[0m\u001b[0mgraph\u001b[0m\u001b[0;34m)\u001b[0m\u001b[0;34m\u001b[0m\u001b[0m\n\u001b[0m",
      "\u001b[0;31mTypeError\u001b[0m: 'module' object is not callable"
     ]
    }
   ],
   "source": [
    "graph=tf.get_default_graph()\n",
    "graph_writer = tf.summary( 'Ex1' , sess.graph)"
   ]
  },
  {
   "cell_type": "code",
   "execution_count": 7,
   "metadata": {
    "collapsed": false,
    "deletable": true,
    "editable": true
   },
   "outputs": [
    {
     "name": "stdout",
     "output_type": "stream",
     "text": [
      "7.84\n",
      "None\n",
      "2.504\n",
      "2.68141\n",
      "2.74386\n",
      "2.76584\n",
      "2.77357\n",
      "2.7763\n",
      "2.77726\n",
      "2.77759\n",
      "2.77771\n",
      "2.77776\n",
      "2.77777\n",
      "2.77778\n",
      "2.77778\n",
      "2.77778\n",
      "2.77778\n",
      "2.77778\n",
      "2.77778\n",
      "2.77778\n",
      "2.77778\n",
      "2.77778\n",
      "2.77778\n"
     ]
    }
   ],
   "source": [
    "import tensorflow as tf        \n",
    "with tf.Session() as Sess:\n",
    "    gr = tf.get_default_graph()\n",
    "    ops = gr.get_operations()\n",
    "    input2 = tf.constant(3.6)\n",
    "    weight = tf.Variable(2.0)\n",
    "    output=tf.multiply(input2,weight)\n",
    "    output_ = tf.constant(10.0) \n",
    "    train_step=tf.Variable(0.025)\n",
    "    loss = tf.subtract(output,output_)**2\n",
    "    train_step = tf.train.GradientDescentOptimizer(0.025).minimize(loss)\n",
    "    Sess.run(tf.global_variables_initializer())\n",
    "    Sess.run(loss)\n",
    "    print(Sess.run(loss))\n",
    "    print(Sess.run(train_step))\n",
    "    print(Sess.run(weight))\n",
    "    for i in range(20):\n",
    "        Sess.run(train_step)\n",
    "        print(Sess.run(weight))"
   ]
  },
  {
   "cell_type": "code",
   "execution_count": null,
   "metadata": {
    "collapsed": true,
    "deletable": true,
    "editable": true
   },
   "outputs": [],
   "source": []
  }
 ],
 "metadata": {
  "kernelspec": {
   "display_name": "Python 3",
   "language": "python",
   "name": "python3"
  },
  "language_info": {
   "codemirror_mode": {
    "name": "ipython",
    "version": 3
   },
   "file_extension": ".py",
   "mimetype": "text/x-python",
   "name": "python",
   "nbconvert_exporter": "python",
   "pygments_lexer": "ipython3",
   "version": "3.6.0"
  }
 },
 "nbformat": 4,
 "nbformat_minor": 2
}
